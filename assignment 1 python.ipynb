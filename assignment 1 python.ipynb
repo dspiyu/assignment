{
 "cells": [
  {
   "cell_type": "code",
   "execution_count": null,
   "id": "b2d9edc5",
   "metadata": {},
   "outputs": [],
   "source": [
    "Q1. values- \"hello\",-87.8, 6 \n",
    "  expression- - ,+ ,/ ,*"
   ]
  },
  {
   "cell_type": "code",
   "execution_count": null,
   "id": "778efa50",
   "metadata": {},
   "outputs": [],
   "source": [
    "Q2. string is a data type which is usually a combination of  characters written inside quotes(\"\").\n",
    " varible is a character used for representation of  different data types . varible is always started with character."
   ]
  },
  {
   "cell_type": "code",
   "execution_count": null,
   "id": "80300f3a",
   "metadata": {},
   "outputs": [],
   "source": [
    "Q3. Three different data types are:- integer , float , string."
   ]
  },
  {
   "cell_type": "code",
   "execution_count": 1,
   "id": "2879130c",
   "metadata": {},
   "outputs": [],
   "source": [
    "Q4.  expression is made up of combination of varible and mathematical operators which are used to perform for a result value. "
   ]
  },
  {
   "cell_type": "code",
   "execution_count": null,
   "id": "ec66a057",
   "metadata": {},
   "outputs": [],
   "source": [
    "Q5.spam= 10 when some mathematical operaton is applied over this statment it will become a expreesion"
   ]
  },
  {
   "cell_type": "code",
   "execution_count": null,
   "id": "6860c506",
   "metadata": {},
   "outputs": [],
   "source": [
    "Q6. bacon=22 is asigned it will not change."
   ]
  },
  {
   "cell_type": "code",
   "execution_count": null,
   "id": "6d1d03bc",
   "metadata": {},
   "outputs": [],
   "source": [
    "Q7. both the expression will give same value i.e.-\"spamspamspam\"."
   ]
  },
  {
   "cell_type": "code",
   "execution_count": null,
   "id": "1cab8406",
   "metadata": {},
   "outputs": [],
   "source": [
    "Q8. because varible always given by character and can be followed by integer."
   ]
  },
  {
   "cell_type": "code",
   "execution_count": null,
   "id": "2b5056a4",
   "metadata": {},
   "outputs": [],
   "source": [
    "Q9. The three function are :- int(), float(),str()."
   ]
  },
  {
   "cell_type": "code",
   "execution_count": null,
   "id": "fe646ebe",
   "metadata": {},
   "outputs": [],
   "source": [
    "Q10. int and str cannot be combined we can fix it by converting integer in string .\n",
    "\"i have eaten \"+ \"99\"+\"burritos\"."
   ]
  },
  {
   "cell_type": "code",
   "execution_count": null,
   "id": "e97deb18",
   "metadata": {},
   "outputs": [],
   "source": []
  }
 ],
 "metadata": {
  "kernelspec": {
   "display_name": "Python 3 (ipykernel)",
   "language": "python",
   "name": "python3"
  },
  "language_info": {
   "codemirror_mode": {
    "name": "ipython",
    "version": 3
   },
   "file_extension": ".py",
   "mimetype": "text/x-python",
   "name": "python",
   "nbconvert_exporter": "python",
   "pygments_lexer": "ipython3",
   "version": "3.9.12"
  }
 },
 "nbformat": 4,
 "nbformat_minor": 5
}
