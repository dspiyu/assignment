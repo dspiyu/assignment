{
 "cells": [
  {
   "cell_type": "code",
   "execution_count": null,
   "id": "bba5b5da",
   "metadata": {},
   "outputs": [],
   "source": [
    "1. Two values of boolean data type are:- True , False.\n",
    "    "
   ]
  },
  {
   "cell_type": "code",
   "execution_count": null,
   "id": "ed8c32e1",
   "metadata": {},
   "outputs": [],
   "source": [
    "2. Three boolean operators are :- and , or , not."
   ]
  },
  {
   "cell_type": "code",
   "execution_count": null,
   "id": "d3da5ecc",
   "metadata": {},
   "outputs": [],
   "source": [
    "3.and truth table     or truth table       not  truth table\n",
    "   T  T  T             T  T  T               T     F\n",
    "   F  T  F             F  T  T               F     T   \n",
    "   T  F  F             T  F  T               \n",
    "   F  F  F             F  F  F               "
   ]
  },
  {
   "cell_type": "code",
   "execution_count": null,
   "id": "4ff5d270",
   "metadata": {},
   "outputs": [],
   "source": [
    "4.(5>4) and (3==5)-- False\n",
    "    not (5>4)  --     False\n",
    "  (5>4) or (3==5) --  True \n",
    " not((5>4)or (3==5))--False\n",
    "(True and True)and (True==False)-- False\n",
    "(not False) or (not True) -- True \n"
   ]
  },
  {
   "cell_type": "code",
   "execution_count": null,
   "id": "1cfa4be8",
   "metadata": {},
   "outputs": [],
   "source": [
    "5. six comparsion opertor are:- less than (<)\n",
    "    less than equal to(<=)\n",
    "    greater than(>)\n",
    "    greater than equal to(>=)\n",
    "    Equal to (=)\n",
    "    Not equal to (!=). "
   ]
  },
  {
   "cell_type": "code",
   "execution_count": null,
   "id": "f78c01b5",
   "metadata": {},
   "outputs": [],
   "source": [
    "6. assignment operator (=) is use to assign value to a varible(a=10) where as ('==') is use for comparison of two values.\n",
    "spam = 0 <--- assignment \n",
    "if spam == 10:<--- comparsion of value.\n",
    "print('eggs')\n"
   ]
  },
  {
   "cell_type": "code",
   "execution_count": null,
   "id": "b238646e",
   "metadata": {},
   "outputs": [],
   "source": [
    "7. block 1- if spam==10:\n",
    "    print ('eggs')\n",
    "    block2 - if spam>5:\n",
    "        print ('bacon')\n",
    "    block3= else:\n",
    "        print('ham')\n",
    "        print('spam')"
   ]
  },
  {
   "cell_type": "code",
   "execution_count": null,
   "id": "6898f7b9",
   "metadata": {},
   "outputs": [],
   "source": [
    " spam =int(input(\"enter a number\"))\n",
    "if spam==1:\n",
    "    print ('Hello')\n",
    "elif spam==2:\n",
    "    print ('Howdy')\n",
    "else :\n",
    "    print('greeting!')"
   ]
  },
  {
   "cell_type": "code",
   "execution_count": null,
   "id": "7f608292",
   "metadata": {},
   "outputs": [],
   "source": [
    "9. ctrl + c"
   ]
  },
  {
   "cell_type": "code",
   "execution_count": null,
   "id": "eb63b961",
   "metadata": {},
   "outputs": [],
   "source": []
  }
 ],
 "metadata": {
  "kernelspec": {
   "display_name": "Python 3 (ipykernel)",
   "language": "python",
   "name": "python3"
  },
  "language_info": {
   "codemirror_mode": {
    "name": "ipython",
    "version": 3
   },
   "file_extension": ".py",
   "mimetype": "text/x-python",
   "name": "python",
   "nbconvert_exporter": "python",
   "pygments_lexer": "ipython3",
   "version": "3.9.12"
  }
 },
 "nbformat": 4,
 "nbformat_minor": 5
}
